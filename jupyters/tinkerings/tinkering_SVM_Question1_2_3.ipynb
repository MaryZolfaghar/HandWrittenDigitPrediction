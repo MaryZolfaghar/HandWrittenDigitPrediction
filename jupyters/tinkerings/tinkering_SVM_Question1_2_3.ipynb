{
 "cells": [
  {
   "cell_type": "code",
   "execution_count": 1,
   "metadata": {},
   "outputs": [],
   "source": [
    "import numpy as np\n",
    "import pandas as pd\n",
    "import pickle\n",
    "import time\n",
    "import matplotlib.pylab as plt\n",
    "\n",
    "from sklearn.model_selection import train_test_split, ShuffleSplit, GridSearchCV,\\\n",
    "                                    StratifiedKFold, KFold,\\\n",
    "                                    StratifiedShuffleSplit, RepeatedStratifiedKFold, \\\n",
    "                                    cross_val_score, cross_validate\n",
    "                                    \n",
    "from sklearn.svm import LinearSVC, SVC\n",
    "from sklearn.metrics import classification_report, confusion_matrix\n",
    "from sklearn.utils import check_random_state\n",
    "from sklearn.pipeline import make_pipeline\n",
    "from sklearn.preprocessing import StandardScaler, LabelEncoder\n",
    "from sklearn.multiclass import OneVsRestClassifier\n",
    "from sklearn.decomposition import PCA\n",
    "\n",
    "from mne.decoding import cross_val_multiscore, LinearModel, \\\n",
    "                         GeneralizingEstimator, Scaler, Vectorizer\n",
    "\n",
    "import cvxpy as cp"
   ]
  },
  {
   "cell_type": "code",
   "execution_count": 2,
   "metadata": {},
   "outputs": [
    {
     "name": "stdout",
     "output_type": "stream",
     "text": [
      "(3747, 8)\n",
      "(3747,)\n"
     ]
    }
   ],
   "source": [
    "class arguments():\n",
    "    def __init__(self):\n",
    "        self.DATAPATH = '../data/'\n",
    "\n",
    "args = arguments()\n",
    "\n",
    "train = pd.read_csv(args.DATAPATH + 'studentspen-train.csv')\n",
    "test = pd.read_csv(args.DATAPATH + 'studentsdigits-test.csv')\n",
    "\n",
    "X = train[['x3', 'y3', 'x4', 'y4', 'x5', 'y5', 'x6', 'y6']].values\n",
    "Y = train['Digit'].values\n",
    "print(X.shape)\n",
    "print(Y.shape)"
   ]
  },
  {
   "cell_type": "markdown",
   "metadata": {},
   "source": [
    "# Create classifiers"
   ]
  },
  {
   "cell_type": "code",
   "execution_count": 3,
   "metadata": {},
   "outputs": [],
   "source": [
    "rand_state=45\n",
    "max_iter=1000000"
   ]
  },
  {
   "cell_type": "code",
   "execution_count": 4,
   "metadata": {},
   "outputs": [],
   "source": [
    "# n_split for linear = 10 and for polynomial = 6\n",
    "n_split_linear=10\n",
    "n_split_poly=6\n",
    "\n",
    "cv1 = StratifiedShuffleSplit(n_splits=n_split_linear, random_state=rand_state) \n",
    "cv2 = StratifiedShuffleSplit(n_splits=n_split_poly, random_state=rand_state) "
   ]
  },
  {
   "cell_type": "code",
   "execution_count": 5,
   "metadata": {},
   "outputs": [],
   "source": [
    "le = LabelEncoder()"
   ]
  },
  {
   "cell_type": "markdown",
   "metadata": {},
   "source": [
    "# Question 1 and 2\n",
    "\n",
    "Question 1): Train a  linear multi-class classification SVM with no kernel.  Specify i) Your mapping function and ii) Your loss function  (20 points)\n",
    "\n",
    "Question 2) Describe a method to estimate your performance using an empirical method. Compare this estimate with a well known theoretical bound. Explain why/if there is a difference. (5 points)"
   ]
  },
  {
   "cell_type": "markdown",
   "metadata": {},
   "source": [
    "# Tinkering "
   ]
  },
  {
   "cell_type": "code",
   "execution_count": 6,
   "metadata": {},
   "outputs": [],
   "source": [
    "# n_split for linear = 10 and for polynomial = 6\n",
    "n_split_linear=10\n",
    "n_split_poly=6\n",
    "\n",
    "cv1 = StratifiedShuffleSplit(n_splits=n_split_linear, random_state=rand_state) \n",
    "cv2 = StratifiedShuffleSplit(n_splits=n_split_poly, random_state=rand_state) \n",
    "cv3 = StratifiedShuffleSplit(n_splits=3, random_state=rand_state) "
   ]
  },
  {
   "cell_type": "code",
   "execution_count": 7,
   "metadata": {},
   "outputs": [],
   "source": [
    "max_iter=10000000\n",
    "\n",
    "lsvc_l1 = LinearSVC(penalty='l1', loss='squared_hinge', dual=False, max_iter=max_iter)\n",
    "lsvc_l2 = LinearSVC(penalty='l2', loss='squared_hinge', dual=False, max_iter=max_iter)\n",
    "lsvc_l3 = LinearSVC(penalty='l1', loss='squared_hinge', max_iter=max_iter)\n",
    "lsvc_l4 = LinearSVC(penalty='l2', loss='squared_hinge', max_iter=max_iter)\n",
    "lsvc_l5 = LinearSVC(penalty='l1', loss='hinge', max_iter=max_iter)\n",
    "lsvc_l6 = LinearSVC(penalty='l2', loss='hinge', max_iter=max_iter)\n",
    "\n",
    "\n",
    "# bsvc = SVC(kernel='linear', C=8, random_state=rand_state, max_iter=max_iter, class_weight='balanced')\n",
    "\n",
    "# lsvc1 = LinearSVC(loss='hinge', max_iter=max_iter) # took forever with cv1, \n",
    "lsvc2 = LinearSVC(loss='squared_hinge', max_iter=max_iter, tol=1e-3)\n",
    "lsvc3 = make_pipeline(StandardScaler(), LinearSVC(random_state=rand_state, max_iter=max_iter))\n",
    "lsvc4 = make_pipeline(StandardScaler(), SVC(kernel='linear', random_state=rand_state, max_iter=max_iter))          \n",
    "\n",
    "ovrsvc = OneVsRestClassifier(bsvc)\n",
    "\n",
    "# Do NOT run again\n",
    "\n"
   ]
  },
  {
   "cell_type": "code",
   "execution_count": 18,
   "metadata": {},
   "outputs": [
    {
     "name": "stdout",
     "output_type": "stream",
     "text": [
      "[0.744      0.752      0.74666667 0.70666667 0.70933333 0.75466667\n",
      " 0.744      0.72266667 0.72266667 0.75733333]\n",
      "0.7360000000000001\n"
     ]
    }
   ],
   "source": [
    "ovrsvc_scores    = cross_val_score(ovrsvc, X, Y, cv=cv1, n_jobs=1)\n",
    "print(ovrsvc_scores)\n",
    "print(np.mean(ovrsvc_scores))"
   ]
  },
  {
   "cell_type": "code",
   "execution_count": 14,
   "metadata": {},
   "outputs": [
    {
     "name": "stdout",
     "output_type": "stream",
     "text": [
      "one vs one\n",
      "[0.86133333 0.89333333 0.86933333 0.872      0.86666667 0.89066667\n",
      " 0.872      0.848      0.87733333 0.91466667]\n",
      "0.8765333333333333\n",
      "one vs rest\n",
      "[0.71733333 0.70666667 0.70133333 0.71733333 0.69066667 0.67466667\n",
      " 0.69066667 0.68       0.704      0.70133333]\n",
      "0.6984\n"
     ]
    }
   ],
   "source": [
    "# Do NOT run again\n",
    "# bsvc = SVC(kernel='linear', C=8, random_state=rand_state, max_iter=max_iter, class_weight='balanced')\n",
    "bsvc = make_pipeline(StandardScaler(), SVC(kernel='linear', random_state=rand_state, \\\n",
    "                                           C=8, max_iter=max_iter, class_weight='balanced'))\n",
    "\n",
    "bsvc_scores     = cross_val_score(bsvc, X, Y, cv=cv1, n_jobs=1)\n",
    "print('one vs one')\n",
    "print(bsvc_scores)\n",
    "print(np.mean(bsvc_scores))\n",
    "\n",
    "\n",
    "ovrsvc = OneVsRestClassifier(bsvc)\n",
    "bsvc_scores     = cross_val_score(ovrsvc, X, Y, cv=cv1, n_jobs=1)\n",
    "print('one vs rest')\n",
    "print(bsvc_scores)\n",
    "print(np.mean(bsvc_scores))\n",
    "\n"
   ]
  },
  {
   "cell_type": "code",
   "execution_count": 11,
   "metadata": {},
   "outputs": [
    {
     "name": "stdout",
     "output_type": "stream",
     "text": [
      "[0.744      0.744      0.736      0.72       0.70933333 0.736\n",
      " 0.73866667 0.712      0.736      0.73866667]\n",
      "0.7314666666666667\n"
     ]
    }
   ],
   "source": [
    "# lsvc3 = make_pipeline(StandardScaler(), LinearSVC(random_state=rand_state, max_iter=max_iter))\n",
    "lsvc3 = make_pipeline(StandardScaler(), LinearSVC(random_state=rand_state, C=8, \\\n",
    "                                                  max_iter=max_iter, class_weight='balanced'))\n",
    "\n",
    "lsvc3_scores     = cross_val_score(lsvc3, X, Y, cv=cv1, n_jobs=1)\n",
    "print(lsvc3_scores)\n",
    "print(np.mean(lsvc3_scores))"
   ]
  },
  {
   "cell_type": "code",
   "execution_count": 19,
   "metadata": {},
   "outputs": [
    {
     "name": "stdout",
     "output_type": "stream",
     "text": [
      "one vs rest\n",
      "[0.744      0.744      0.736      0.72       0.70933333 0.736\n",
      " 0.73866667 0.712      0.736      0.73866667]\n",
      "0.7314666666666667\n"
     ]
    }
   ],
   "source": [
    "# Do NOT run again\n",
    "# lsvc1 = LinearSVC(loss='hinge',C=8, random_state=rand_state, max_iter=max_iter, class_weight='balanced', tol=1e4) # took forever with cv1, \n",
    "\n",
    "lsvc1 = make_pipeline(StandardScaler(), LinearSVC(loss='squared_hinge', random_state=rand_state,\\\n",
    "                                                  C=8, max_iter=max_iter, class_weight='balanced'))\n",
    "\n",
    "\n",
    "lsvc1_scores     = cross_val_score(lsvc1, X, Y, cv=cv1, n_jobs=1)\n",
    "print('one vs rest')\n",
    "print(lsvc1_scores)\n",
    "print(np.mean(lsvc1_scores))\n"
   ]
  },
  {
   "cell_type": "code",
   "execution_count": 8,
   "metadata": {},
   "outputs": [
    {
     "name": "stdout",
     "output_type": "stream",
     "text": [
      "[0.736      0.74933333 0.73333333]\n",
      "0.7395555555555555\n"
     ]
    }
   ],
   "source": [
    "# Do NOT run again\n",
    "lsvc2_scores     = cross_val_score(lsvc2, X, Y, cv=cv3, n_jobs=1)\n",
    "print(lsvc2_scores)\n",
    "print(np.mean(lsvc2_scores))"
   ]
  },
  {
   "cell_type": "code",
   "execution_count": null,
   "metadata": {},
   "outputs": [],
   "source": [
    "# Do NOT run again\n",
    "lsvc3_scores     = cross_val_score(lsvc3, X, Y, cv=cv1, n_jobs=1)\n",
    "print(lsvc3_scores)\n",
    "print(np.mean(lsvc3_scores))"
   ]
  },
  {
   "cell_type": "code",
   "execution_count": null,
   "metadata": {},
   "outputs": [],
   "source": [
    "# Do NOT run again\n",
    "lsvc4_scores     = cross_val_score(lsvc4, X, Y, cv=cv1, n_jobs=1)\n",
    "print(lsvc4_scores)\n",
    "print(np.mean(lsvc4_scores))"
   ]
  },
  {
   "cell_type": "code",
   "execution_count": null,
   "metadata": {},
   "outputs": [],
   "source": [
    "# Do NOT run again\n",
    "lsvc_l1_scores     = cross_val_score(lsvc_l1, X, Y, cv=cv1, n_jobs=1)\n",
    "print(lsvc_l1_scores)\n",
    "print(np.mean(lsvc_l1_scores))"
   ]
  },
  {
   "cell_type": "code",
   "execution_count": null,
   "metadata": {},
   "outputs": [],
   "source": [
    "# Do NOT run again\n",
    "lsvc_l2_scores     = cross_val_score(lsvc_l2, X, Y, cv=cv1, n_jobs=1)\n",
    "print(lsvc_l2_scores)\n",
    "print(np.mean(lsvc_l2_scores))"
   ]
  },
  {
   "cell_type": "code",
   "execution_count": null,
   "metadata": {},
   "outputs": [],
   "source": [
    "# Do NOT run again\n",
    "lsvc_l3_scores     = cross_val_score(lsvc_l3, X, Y, cv=cv1, n_jobs=1)\n",
    "print(lsvc_l3_scores)\n",
    "print(np.mean(lsvc_l3_scores))"
   ]
  },
  {
   "cell_type": "code",
   "execution_count": null,
   "metadata": {},
   "outputs": [],
   "source": [
    "# Do NOT run again\n",
    "lsvc_l4_scores     = cross_val_score(lsvc_l4, X, Y, cv=cv1, n_jobs=1)\n",
    "print(lsvc_l4_scores)\n",
    "print(np.mean(lsvc_l4_scores))"
   ]
  },
  {
   "cell_type": "code",
   "execution_count": null,
   "metadata": {},
   "outputs": [],
   "source": [
    "# Do NOT run again\n",
    "lsvc_l5_scores     = cross_val_score(lsvc_l5, X, Y, cv=cv1, n_jobs=1)\n",
    "print(lsvc_l5_scores)\n",
    "print(np.mean(lsvc_l5_scores))"
   ]
  },
  {
   "cell_type": "code",
   "execution_count": null,
   "metadata": {},
   "outputs": [],
   "source": [
    "# Do NOT run again\n",
    "lsvc_l6_scores     = cross_val_score(lsvc_l6, X, Y, cv=cv1, n_jobs=1)\n",
    "print(lsvc_l6_scores)\n",
    "print(np.mean(lsvc_l6_scores))"
   ]
  },
  {
   "cell_type": "markdown",
   "metadata": {},
   "source": [
    "# finalized classifiers\n",
    "## Applying finalized classifier on the actual test data and save them"
   ]
  },
  {
   "cell_type": "code",
   "execution_count": 32,
   "metadata": {},
   "outputs": [
    {
     "name": "stdout",
     "output_type": "stream",
     "text": [
      "(3747, 8)\n",
      "(3747,)\n",
      "(3747, 8)\n"
     ]
    }
   ],
   "source": [
    "class arguments():\n",
    "    def __init__(self):\n",
    "        self.DATAPATH = '../data/'\n",
    "\n",
    "args = arguments()\n",
    "\n",
    "train = pd.read_csv(args.DATAPATH + 'studentspen-train.csv')\n",
    "test = pd.read_csv(args.DATAPATH + 'studentsdigits-test.csv')\n",
    "\n",
    "X_train = train[['x3', 'y3', 'x4', 'y4', 'x5', 'y5', 'x6', 'y6']].values\n",
    "y_train = train['Digit'].values\n",
    "\n",
    "X_test = test[['x3', 'y3', 'x4', 'y4', 'x5', 'y5', 'x6', 'y6']].values\n",
    "\n",
    "\n",
    "print(X_train.shape)\n",
    "print(y_train.shape)\n",
    "print(X_test.shape)"
   ]
  },
  {
   "cell_type": "code",
   "execution_count": 33,
   "metadata": {},
   "outputs": [
    {
     "name": "stdout",
     "output_type": "stream",
     "text": [
      "one vs rest\n",
      "[0.744      0.744      0.736      0.72       0.70933333 0.736\n",
      " 0.73866667 0.712      0.736      0.73866667]\n",
      "0.7314666666666667\n",
      "one vs one\n",
      "[0.86133333 0.89333333 0.86933333 0.872      0.86666667 0.89066667\n",
      " 0.872      0.848      0.87733333 0.91466667]\n",
      "0.8765333333333333\n",
      "one vs rest\n",
      "[0.71733333 0.70666667 0.70133333 0.71733333 0.69066667 0.67466667\n",
      " 0.69066667 0.68       0.704      0.70133333]\n",
      "0.6984\n"
     ]
    }
   ],
   "source": [
    "#---------------------------------------------------------------------------------------------------\n",
    "# Linear SVC\n",
    "#---------------------------------------------------------------------------------------------------\n",
    "svm_final_1 = make_pipeline(StandardScaler(), LinearSVC(loss='squared_hinge', random_state=rand_state,\\\n",
    "                                                        C=8, max_iter=max_iter, class_weight='balanced'))\n",
    "\n",
    "svm_final_1_scores  = cross_val_score(svm_final_1, X, Y, cv=cv1, n_jobs=1)\n",
    "print('one vs rest')\n",
    "print(svm_final_1_scores)\n",
    "print(np.mean(svm_final_1_scores))\n",
    "\n",
    "\n",
    "#---------------------------------------------------------------------------------------------------\n",
    "# SVC with one vs rest wrapper\n",
    "#---------------------------------------------------------------------------------------------------\n",
    "\n",
    "svm_final_2 = make_pipeline(StandardScaler(), SVC(kernel='linear', random_state=rand_state, \\\n",
    "                                                  C=8, max_iter=max_iter, class_weight='balanced'))\n",
    "svm_final_2_scores  = cross_val_score(svm_final_2, X, Y, cv=cv1, n_jobs=1)\n",
    "print('one vs one')\n",
    "print(svm_final_2_scores)\n",
    "print(np.mean(svm_final_2_scores))\n",
    "\n",
    "#----------------------------------\n",
    "svm_final_3 = OneVsRestClassifier(svm_final_2)\n",
    "svm_final_3_scores     = cross_val_score(svm_final_3, X, Y, cv=cv1, n_jobs=1)\n",
    "print('one vs rest')\n",
    "print(svm_final_3_scores)\n",
    "print(np.mean(svm_final_3_scores))"
   ]
  },
  {
   "cell_type": "code",
   "execution_count": 34,
   "metadata": {},
   "outputs": [
    {
     "name": "stdout",
     "output_type": "stream",
     "text": [
      "done\n",
      "done\n"
     ]
    }
   ],
   "source": [
    "#---------------------------------------------------------------------------------------------------\n",
    "# One vs Rest\n",
    "#---------------------------------------------------------------------------------------------------\n",
    "svm_final_1.fit(X_train, y_train)\n",
    "y_pred = svm_final_1.predict(X_test)\n",
    "\n",
    "\n",
    "SAVE_RESULT_ROOT = '../results/'\n",
    "fn_str = SAVE_RESULT_ROOT + 'MaryZolfaghar_preds_Q3_OneVsRest.txt'\n",
    "a_file = open(fn_str, \"w\")\n",
    "\n",
    "for row in y_pred:\n",
    "    res = str(row)\n",
    "    a_file.write(str(int(float(res)))+\"\\n\")\n",
    "a_file.close()\n",
    "print('done')\n",
    "\n",
    "#---------------------------------------------------------------------------------------------------\n",
    "# One Vs One\n",
    "#---------------------------------------------------------------------------------------------------\n",
    "svm_final_2.fit(X_train, y_train)\n",
    "y_pred_ovo = svm_final_2.predict(X_test)\n",
    "\n",
    "\n",
    "SAVE_RESULT_ROOT = '../results/'\n",
    "fn_str = SAVE_RESULT_ROOT + 'MaryZolfaghar_preds_Q3_OneVsOne.txt'\n",
    "a_file = open(fn_str, \"w\")\n",
    "\n",
    "for row in y_pred_ovo:\n",
    "    res = str(row)\n",
    "    a_file.write(str(int(float(res)))+\"\\n\")\n",
    "a_file.close()\n",
    "print('done')"
   ]
  },
  {
   "cell_type": "markdown",
   "metadata": {},
   "source": [
    "# Tuning parameters for one vs rest classifier"
   ]
  },
  {
   "cell_type": "code",
   "execution_count": null,
   "metadata": {},
   "outputs": [],
   "source": [
    "class arguments():\n",
    "    def __init__(self):\n",
    "        self.DATAPATH = '../data/'\n",
    "\n",
    "args = arguments()\n",
    "\n",
    "train = pd.read_csv(args.DATAPATH + 'studentspen-train.csv')\n",
    "test = pd.read_csv(args.DATAPATH + 'studentsdigits-test.csv')\n",
    "\n",
    "X = train[['x3', 'y3', 'x4', 'y4', 'x5', 'y5', 'x6', 'y6']].values\n",
    "Y = train['Digit'].values\n",
    "print(X.shape)\n",
    "print(Y.shape)\n",
    "\n",
    "\n",
    "# n_split for linear = 10 and for polynomial = 6\n",
    "n_split_linear=10\n",
    "n_split_poly=6\n",
    "\n",
    "cv1 = StratifiedShuffleSplit(n_splits=n_split_linear, random_state=rand_state) \n",
    "cv2 = StratifiedShuffleSplit(n_splits=n_split_poly, random_state=rand_state) \n",
    "\n",
    "\n",
    "\n",
    "\n",
    "\n",
    "bsvc = SVC(kernel='linear')\n",
    "lsvc = LinearSVC()\n",
    "ovrsvc = OneVsRestClassifier(bsvc)\n",
    "\n",
    "ns_ranegs = [3, 6, 9, 12]\n",
    "\n",
    "for ns in ns_ranegs:\n",
    "    cv3 = StratifiedShuffleSplit(n_splits=ns, random_state=rand_state) \n",
    "    ovrsvc_scores    = cross_val_score(ovrsvc, X, Y, cv=cv3, n_jobs=1)\n",
    "    print('for num of splits:', ns)\n",
    "    print(ovrsvc_scores)\n",
    "    print(np.mean(ovrsvc_scores))\n",
    "    print('\\n')\n",
    "\n",
    "\n",
    "\n",
    "# (3747, 8)\n",
    "# (3747,)\n",
    "# for num of splits: 3\n",
    "# [0.744      0.752      0.74666667]\n",
    "# 0.7475555555555555\n",
    "\n",
    "\n",
    "# for num of splits: 6\n",
    "# [0.744      0.752      0.74666667 0.70666667 0.70933333 0.75466667]\n",
    "# 0.7355555555555555\n",
    "\n",
    "\n",
    "# for num of splits: 9\n",
    "# [0.744      0.752      0.74666667 0.70666667 0.70933333 0.75466667\n",
    "#  0.744      0.72266667 0.72266667]\n",
    "# 0.7336296296296297\n",
    "\n",
    "\n",
    "# for num of splits: 12\n",
    "# [0.744      0.752      0.74666667 0.70666667 0.70933333 0.75466667\n",
    "#  0.744      0.72266667 0.72266667 0.75733333 0.728      0.71466667]\n",
    "# 0.7335555555555556"
   ]
  },
  {
   "cell_type": "code",
   "execution_count": null,
   "metadata": {},
   "outputs": [],
   "source": [
    "class arguments():\n",
    "    def __init__(self):\n",
    "        self.DATAPATH = '../data/'\n",
    "\n",
    "args = arguments()\n",
    "\n",
    "train = pd.read_csv(args.DATAPATH + 'studentspen-train.csv')\n",
    "test = pd.read_csv(args.DATAPATH + 'studentsdigits-test.csv')\n",
    "\n",
    "X = train[['x3', 'y3', 'x4', 'y4', 'x5', 'y5', 'x6', 'y6']].values\n",
    "Y = train['Digit'].values\n",
    "print(X.shape)\n",
    "print(Y.shape)\n",
    "\n",
    "\n",
    "# n_split for linear = 10 and for polynomial = 6\n",
    "n_split_linear=10\n",
    "n_split_poly=6\n",
    "\n",
    "cv1 = StratifiedShuffleSplit(n_splits=n_split_linear, random_state=rand_state) \n",
    "cv2 = StratifiedShuffleSplit(n_splits=n_split_poly, random_state=rand_state) \n",
    "\n",
    "\n",
    "\n",
    "\n",
    "\n",
    "bsvc = SVC(kernel='linear')\n",
    "lsvc = LinearSVC()\n",
    "ovrsvc = OneVsRestClassifier(bsvc)\n",
    "\n",
    "ns_ranges = [3, 6]\n",
    "ts_ranges = [0.1, 0.2, 0.3, 0.4]\n",
    "for ns in ns_ranges:\n",
    "    for ts in ts_ranges:\n",
    "        cv3 = StratifiedShuffleSplit(n_splits=ns, random_state=rand_state, test_size=ts) \n",
    "        ovrsvc_scores    = cross_val_score(ovrsvc, X, Y, cv=cv3, n_jobs=1)\n",
    "        print('for num of splits and test size:', ns, ts)\n",
    "        print(ovrsvc_scores)\n",
    "        print(np.mean(ovrsvc_scores))\n",
    "        print('\\n')\n",
    "\n",
    "\n",
    "\n",
    "\n",
    "# (3747, 8)\n",
    "# (3747,)\n",
    "# for num of splits and test size: 3 0.1\n",
    "# [0.744      0.752      0.74666667]\n",
    "# 0.7475555555555555\n",
    "\n",
    "\n",
    "# for num of splits and test size: 3 0.2\n",
    "# [0.744      0.73466667 0.73466667]\n",
    "# 0.7377777777777778\n",
    "\n",
    "\n",
    "# for num of splits and test size: 3 0.3\n",
    "# [0.74933333 0.75377778 0.73866667]\n",
    "# 0.7472592592592592\n",
    "\n",
    "\n",
    "# for num of splits and test size: 3 0.4\n",
    "# [0.73849233 0.73715811 0.73782522]\n",
    "# 0.7378252168112075\n",
    "\n",
    "\n",
    "# for num of splits and test size: 6 0.1\n",
    "# [0.744      0.752      0.74666667 0.70666667 0.70933333 0.75466667]\n",
    "# 0.7355555555555555\n",
    "\n",
    "\n",
    "# for num of splits and test size: 6 0.2\n",
    "# [0.744      0.73466667 0.73466667 0.72133333 0.728      0.72933333]\n",
    "# 0.7319999999999999\n",
    "\n",
    "\n",
    "# for num of splits and test size: 6 0.3\n",
    "# [0.74933333 0.75377778 0.73866667 0.74044444 0.71288889 0.72177778]\n",
    "# 0.7361481481481481\n",
    "\n",
    "\n",
    "# for num of splits and test size: 6 0.4\n",
    "# [0.73849233 0.73715811 0.73782522 0.73248833 0.72981988 0.73849233]\n",
    "# 0.7357126973537914"
   ]
  },
  {
   "cell_type": "markdown",
   "metadata": {},
   "source": [
    "# Tuning parameter C for SVC for  kernel = 'linear'\n",
    "C = 8"
   ]
  },
  {
   "cell_type": "code",
   "execution_count": null,
   "metadata": {},
   "outputs": [],
   "source": [
    "# Do NOT run again\n",
    "\n",
    "scores=[]\n",
    "range_params = np.array([2,4,6,8,9,10])\n",
    "for ic, cc in enumerate(range_params):\n",
    "    lsvc3 = make_pipeline(StandardScaler(), LinearModel(SVC(kernel='linear', C=cc, \\\n",
    "                                                            random_state=rand_state, \\\n",
    "                                                            max_iter=max_iter)))           \n",
    "\n",
    "    lsvc3_scores     = cross_val_score(lsvc3, X, Y, cv=cv1)\n",
    "    sc = np.mean(lsvc3_scores)\n",
    "    scores.append(sc)\n",
    "    print('C is ', cc, 'gives score', sc)\n",
    "    \n"
   ]
  },
  {
   "cell_type": "code",
   "execution_count": null,
   "metadata": {},
   "outputs": [],
   "source": [
    "# Do NOT run again\n",
    "\n",
    "bsvc = SVC(kernel='linear', C=8, random_state=rand_state, max_iter=max_iter)\n",
    "bsvc_scores     = cross_val_score(bsvc, X, Y, cv=cv1, n_jobs=1)\n",
    "print(bsvc_scores)\n",
    "print(np.mean(bsvc_scores))"
   ]
  },
  {
   "cell_type": "markdown",
   "metadata": {},
   "source": [
    "# Best model so far"
   ]
  },
  {
   "cell_type": "code",
   "execution_count": 50,
   "metadata": {},
   "outputs": [
    {
     "name": "stdout",
     "output_type": "stream",
     "text": [
      "[0.864      0.896      0.872      0.87733333 0.872      0.888\n",
      " 0.86933333 0.84533333 0.87466667 0.90933333]\n",
      "0.8767999999999999\n"
     ]
    }
   ],
   "source": [
    "# Do NOT run again\n",
    "\n",
    "# checking class_weight='balanced' -> does not matter \n",
    "bsvc = SVC(kernel='linear', C=8, random_state=rand_state, max_iter=max_iter,\\\n",
    "           class_weight='balanced')\n",
    "bsvc_scores     = cross_val_score(bsvc, X, Y, cv=cv1, n_jobs=1)\n",
    "print(bsvc_scores)\n",
    "print(np.mean(bsvc_scores))"
   ]
  },
  {
   "cell_type": "code",
   "execution_count": 54,
   "metadata": {},
   "outputs": [
    {
     "name": "stdout",
     "output_type": "stream",
     "text": [
      "0.8767999999999999\n",
      "0.8767999999999999\n",
      "0.8767999999999999\n",
      "0.8767999999999999\n",
      "0.8767999999999999\n",
      "0.8767999999999999\n",
      "0.8767999999999999\n",
      "0.8767999999999999\n",
      "0.8767999999999999\n",
      "0.8767999999999999\n"
     ]
    }
   ],
   "source": [
    "# Do NOT run again\n",
    "\n",
    "# checking gamma -> does not matter to set to a specific number\n",
    "range_params =np.logspace(-1, 10, 10)\n",
    "for al in range_params:\n",
    "    bsvc = SVC(kernel='linear', C=8, random_state=rand_state, max_iter=max_iter,\\\n",
    "               class_weight='balanced', gamma=al)\n",
    "    bsvc_scores     = cross_val_score(lsvc3, X, Y, cv=cv1, n_jobs=1)\n",
    "    print(np.mean(bsvc_scores))"
   ]
  },
  {
   "cell_type": "code",
   "execution_count": 56,
   "metadata": {},
   "outputs": [
    {
     "name": "stdout",
     "output_type": "stream",
     "text": [
      "0.8767999999999999\n",
      "0.8767999999999999\n"
     ]
    }
   ],
   "source": [
    "# Do NOT run again\n",
    "\n",
    "# checking gamma -> does not matter to be scale or auto\n",
    "bsvc = SVC(kernel='linear', C=8, random_state=rand_state, max_iter=max_iter,\\\n",
    "           class_weight='balanced', gamma='auto')\n",
    "bsvc_scores     = cross_val_score(lsvc3, X, Y, cv=cv1, n_jobs=1)\n",
    "print(np.mean(bsvc_scores))\n",
    "\n",
    "# checking gamma\n",
    "bsvc = SVC(kernel='linear', C=8, random_state=rand_state, max_iter=max_iter,\\\n",
    "           class_weight='balanced', gamma='scale')\n",
    "bsvc_scores     = cross_val_score(lsvc3, X, Y, cv=cv1, n_jobs=1)\n",
    "print(np.mean(bsvc_scores))"
   ]
  },
  {
   "cell_type": "code",
   "execution_count": 63,
   "metadata": {},
   "outputs": [
    {
     "name": "stdout",
     "output_type": "stream",
     "text": [
      "0.8551056860183566\n"
     ]
    }
   ],
   "source": [
    "# Do NOT run again\n",
    "\n",
    "# check deafult for cross validation, setting cv to integer 10, it will be kfold or kstratified \n",
    "\n",
    "bsvc = SVC(kernel='linear', C=8, random_state=rand_state, max_iter=max_iter)\n",
    "bsvc_scores     = cross_val_score(lsvc3, X, Y, cv=10)\n",
    "print(np.mean(bsvc_scores))"
   ]
  },
  {
   "cell_type": "markdown",
   "metadata": {},
   "source": [
    "# Checking other classifiers\n",
    "SVC is way better than linearSVC"
   ]
  },
  {
   "cell_type": "code",
   "execution_count": 17,
   "metadata": {},
   "outputs": [
    {
     "name": "stdout",
     "output_type": "stream",
     "text": [
      "[0.592      0.37866667 0.41866667 0.46933333 0.48266667 0.536\n",
      " 0.55733333 0.528      0.33066667 0.48      ]\n"
     ]
    }
   ],
   "source": [
    "lsvc_scores     = cross_val_score(lsvc, X, Y, cv=cv1, n_jobs=1)\n",
    "print(lsvc_scores)"
   ]
  },
  {
   "cell_type": "code",
   "execution_count": 62,
   "metadata": {},
   "outputs": [
    {
     "name": "stdout",
     "output_type": "stream",
     "text": [
      "[0.592      0.37866667 0.41866667 0.46933333 0.48266667 0.536\n",
      " 0.55733333 0.528      0.33066667 0.48      ]\n"
     ]
    }
   ],
   "source": [
    "# lsvc_scores     = cross_val_score(lsvc, X, Y, cv=cv1, n_jobs=1)\n",
    "print(lsvc_scores)"
   ]
  },
  {
   "cell_type": "code",
   "execution_count": 18,
   "metadata": {},
   "outputs": [
    {
     "name": "stdout",
     "output_type": "stream",
     "text": [
      "[0.736      0.752      0.73333333 0.71466667 0.712      0.74133333\n",
      " 0.73866667 0.712      0.73866667 0.73333333]\n"
     ]
    }
   ],
   "source": [
    "lsvc_l1_scores  = cross_val_score(lsvc_l1, X, Y, cv=cv1, n_jobs=1)\n",
    "print(lsvc_l1_scores)"
   ]
  },
  {
   "cell_type": "markdown",
   "metadata": {},
   "source": [
    "# Conclusions\n",
    "1. It might be easier to use GridSearch, but faster to do it separately to have a general idea\n",
    "1.1. So far I got C=8 for kernel ='linear', and n_splits=10 gave me the best result, gamma was not affecting the results\n",
    "1.2. I tried to double check that with \n",
    "2. It might be a better cross validation to do a nested and non-nested cross validation\n",
    "3. For being able to plot I might need to use cross predict: https://scikit-learn.org/stable/auto_examples/model_selection/plot_cv_predict.html#sphx-glr-auto-examples-model-selection-plot-cv-predict-py\n",
    "\n",
    "4. SVC was way better than linearSVC\n",
    "5. For transfer learning i might be able to use cross predict"
   ]
  },
  {
   "cell_type": "markdown",
   "metadata": {},
   "source": [
    "# Question 3\n",
    "Question 3) Submit your predictions on this test set, one prediction per line in the order given studentsdigits-test.csvPreview the document (10 points)"
   ]
  },
  {
   "cell_type": "markdown",
   "metadata": {},
   "source": [
    "# Checking classifiers after adding kernel\n",
    "seems kernel='poly' is the best one"
   ]
  },
  {
   "cell_type": "code",
   "execution_count": null,
   "metadata": {},
   "outputs": [],
   "source": [
    "def plot_multiclass_hyperplane(X_plt, y_plt, clf_src, use_annotate):\n",
    "    #----------------------------------------------------------------------------------               \n",
    "    fig= plt.figure(figsize=(13,13))\n",
    "    ax = fig.add_subplot(111)\n",
    "    #----------------------------------------------------------------------------------               \n",
    "    pca = PCA(n_components=2).fit(X_plt)\n",
    "    pca_2d = pca.transform(X_plt)\n",
    "    #----------------------------------------------------------------------------------               \n",
    "    for i in range(0, pca_2d.shape[0]):\n",
    "        if y_plt[i] == 0:\n",
    "            c0 = plt.scatter(pca_2d[i,0],pca_2d[i,1],c='r',  marker='+')\n",
    "        elif y_plt[i] == 1:\n",
    "            c1 = plt.scatter(pca_2d[i,0],pca_2d[i,1],c='g',    marker='o')\n",
    "        elif y_plt[i] == 2:\n",
    "            c2 = plt.scatter(pca_2d[i,0],pca_2d[i,1],c='b',    marker='s')\n",
    "        elif y_plt[i] == 3:\n",
    "            c3 = plt.scatter(pca_2d[i,0],pca_2d[i,1],c='y',    marker='p')\n",
    "        elif y_plt[i] == 4:\n",
    "            c4 = plt.scatter(pca_2d[i,0],pca_2d[i,1],c='c',    marker='x')\n",
    "        elif y_plt[i] == 5:\n",
    "            c5 = plt.scatter(pca_2d[i,0],pca_2d[i,1],c='teal',    marker='P')\n",
    "        elif y_plt[i] == 6:\n",
    "            c6 = plt.scatter(pca_2d[i,0],pca_2d[i,1],c='peru',  marker='D')\n",
    "        elif y_plt[i] == 7:\n",
    "            c7 = plt.scatter(pca_2d[i,0],pca_2d[i,1],c='lime',    marker='X')\n",
    "        elif y_plt[i] == 8:\n",
    "            c8 = plt.scatter(pca_2d[i,0],pca_2d[i,1],c='fuchsia',    marker='>')\n",
    "        elif y_plt[i] == 9:\n",
    "            c9 = plt.scatter(pca_2d[i,0],pca_2d[i,1],c='seagreen',    marker='<')\n",
    "        if use_annotate:\n",
    "            ax.annotate(str(y_plt[i]), (pca_2d[i,0],pca_2d[i,1]))\n",
    "    #----------------------------------------------------------------------------------               \n",
    "    plt.legend([c0, c1, c2, c3, c4, c5, c6, c7, c8, c9],\\\n",
    "              ['digit 0', 'digit 1', 'digit 2','digit 3', 'digit 4', 'digit 5',\\\n",
    "               'digit 6', 'digit 7', 'digit 8','digit 9' ])\n",
    "    #----------------------------------------------------------------------------------               \n",
    "    svclassifier_2d = clf_src\n",
    "    svclassifier_2d.fit(pca_2d, y_plt)\n",
    "    #----------------------------------------------------------------------------------               \n",
    "    x_min, x_max = pca_2d[:, 0].min() - 1,   pca_2d[:,0].max() + 1\n",
    "    y_min, y_max = pca_2d[:, 1].min() - 1,   pca_2d[:,1].max() + 1\n",
    "    xx, yy = np.meshgrid(np.arange(x_min, x_max, 10),   np.arange(y_min, y_max, 10))\n",
    "\n",
    "    Z = svclassifier_2d.predict(np.c_[xx.ravel(),  yy.ravel()])\n",
    "    Z = Z.reshape(xx.shape)\n",
    "    plt.contour(xx, yy, Z)\n",
    "    plt.title('Support Vector Machine Decision Surface', fontweight='bold', fontsize=22)\n",
    "#     plt.axis('off')\n",
    "    plt.show()\n",
    "    #----------------------------------------------------------------------------------               \n",
    "    print('done')"
   ]
  },
  {
   "cell_type": "code",
   "execution_count": null,
   "metadata": {},
   "outputs": [],
   "source": [
    "class arguments():\n",
    "    def __init__(self):\n",
    "        self.DATAPATH = '../data/'\n",
    "\n",
    "args = arguments()\n",
    "\n",
    "train = pd.read_csv(args.DATAPATH + 'studentspen-train.csv')\n",
    "test = pd.read_csv(args.DATAPATH + 'studentsdigits-test.csv')\n",
    "\n",
    "X = train[['x3', 'y3', 'x4', 'y4', 'x5', 'y5', 'x6', 'y6']].values\n",
    "Y = train['Digit'].values\n",
    "print(X.shape)\n",
    "print(Y.shape)"
   ]
  },
  {
   "cell_type": "code",
   "execution_count": null,
   "metadata": {},
   "outputs": [],
   "source": [
    "rand_state=45\n",
    "max_iter=100000"
   ]
  },
  {
   "cell_type": "code",
   "execution_count": null,
   "metadata": {},
   "outputs": [],
   "source": [
    "# n_split for linear = 10 and for polynomial = 6\n",
    "n_split_linear=10\n",
    "n_split_poly=6\n",
    "\n",
    "cv1 = StratifiedShuffleSplit(n_splits=n_split_linear, random_state=rand_state) \n",
    "cv2 = StratifiedShuffleSplit(n_splits=n_split_poly, random_state=rand_state) \n",
    "cv3 = StratifiedShuffleSplit(n_splits=3, random_state=rand_state) "
   ]
  },
  {
   "cell_type": "code",
   "execution_count": null,
   "metadata": {},
   "outputs": [],
   "source": [
    "psvc = SVC(kernel='poly', gamma='scale')\n",
    "psvc2 = SVC(kernel='poly', gamma='auto')\n",
    "rsvc = SVC(kernel='rbf', gamma='auto')\n",
    "ssvc = SVC(kernel='sigmoid', gamma='auto')\n",
    "ovrsvc = OneVsRestClassifier(psvc)"
   ]
  },
  {
   "cell_type": "code",
   "execution_count": 60,
   "metadata": {},
   "outputs": [
    {
     "name": "stdout",
     "output_type": "stream",
     "text": [
      "[0.952      0.96533333 0.92533333 0.944      0.95733333 0.96266667]\n",
      "0.951111111111111\n"
     ]
    }
   ],
   "source": [
    "psvc_scores     = cross_val_score(psvc, X, Y, cv=cv2, n_jobs=1)\n",
    "print(psvc_scores)\n",
    "print(np.mean(psvc_scores))"
   ]
  },
  {
   "cell_type": "code",
   "execution_count": 61,
   "metadata": {},
   "outputs": [
    {
     "name": "stdout",
     "output_type": "stream",
     "text": [
      "[0.96       0.95733333 0.952      0.96266667 0.97066667 0.944     ]\n",
      "0.9577777777777778\n"
     ]
    }
   ],
   "source": [
    "psvc2_scores    = cross_val_score(psvc2, X, Y, cv=cv2, n_jobs=1)\n",
    "print(psvc2_scores)\n",
    "print(np.mean(psvc2_scores))"
   ]
  },
  {
   "cell_type": "code",
   "execution_count": null,
   "metadata": {},
   "outputs": [],
   "source": [
    "rsvc_scores    = cross_val_score(rsvc, X, Y, cv=cv2, n_jobs=1)\n",
    "print(rsvc_scores)\n",
    "print(np.mean(rsvc_scores))"
   ]
  },
  {
   "cell_type": "code",
   "execution_count": null,
   "metadata": {},
   "outputs": [],
   "source": [
    "ssvc_scores    = cross_val_score(ssvc, X, Y, cv=cv2, n_jobs=1)\n",
    "print(ssvc_scores)\n",
    "print(np.mean(ssvc_scores))"
   ]
  },
  {
   "cell_type": "code",
   "execution_count": null,
   "metadata": {},
   "outputs": [],
   "source": [
    "ovrsvc_scores    = cross_val_score(ovrsvc, X, Y, cv=cv3, n_jobs=1)\n",
    "print(ovrsvc_scores)\n",
    "print(np.mean(ovrsvc_scores))"
   ]
  },
  {
   "cell_type": "code",
   "execution_count": null,
   "metadata": {},
   "outputs": [],
   "source": [
    "plot_multiclass_hyperplane(X_plt=X.copy(), y_plt=Y.copy(), clf_src=ovrsvc, use_annotate=False)"
   ]
  },
  {
   "cell_type": "code",
   "execution_count": null,
   "metadata": {},
   "outputs": [],
   "source": []
  },
  {
   "cell_type": "code",
   "execution_count": null,
   "metadata": {},
   "outputs": [],
   "source": []
  },
  {
   "cell_type": "code",
   "execution_count": null,
   "metadata": {},
   "outputs": [],
   "source": []
  },
  {
   "cell_type": "code",
   "execution_count": null,
   "metadata": {},
   "outputs": [],
   "source": [
    "for trg_train_index, trg_test_index in cv1.split(X17, Y17):"
   ]
  }
 ],
 "metadata": {
  "kernelspec": {
   "display_name": "DeepLearnigEEG",
   "language": "python",
   "name": "deeplearnigeeg"
  },
  "language_info": {
   "codemirror_mode": {
    "name": "ipython",
    "version": 3
   },
   "file_extension": ".py",
   "mimetype": "text/x-python",
   "name": "python",
   "nbconvert_exporter": "python",
   "pygments_lexer": "ipython3",
   "version": "3.7.4"
  }
 },
 "nbformat": 4,
 "nbformat_minor": 2
}
